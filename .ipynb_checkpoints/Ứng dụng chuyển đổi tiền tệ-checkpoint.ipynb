{
 "cells": [
  {
   "cell_type": "code",
   "execution_count": 1,
   "id": "78ba2482",
   "metadata": {},
   "outputs": [
    {
     "name": "stdout",
     "output_type": "stream",
     "text": [
      "Nhập số tiền USD muốn quy đổi100\n",
      "Nhập tỷ giá quy đổi giữa 1USD = VND=23000\n",
      "Tổng số tiền VND được quy đổi từ 100 USD với tỷ giá = 23000 = 2300000.0\n"
     ]
    }
   ],
   "source": [
    "usd_amount=input(\"Nhập số tiền USD muốn quy đổi\")\n",
    "rate_usd_vnd = input(\"Nhập tỷ giá quy đổi giữa 1USD = VND=\")\n",
    "\n",
    "vnd_amount = float(usd_amount) * float(rate_usd_vnd )\n",
    "\n",
    "print(f'Tổng số tiền VND được quy đổi từ {usd_amount} USD với tỷ giá = {rate_usd_vnd} = {vnd_amount}')\n"
   ]
  }
 ],
 "metadata": {
  "kernelspec": {
   "display_name": "Python 3 (ipykernel)",
   "language": "python",
   "name": "python3"
  },
  "language_info": {
   "codemirror_mode": {
    "name": "ipython",
    "version": 3
   },
   "file_extension": ".py",
   "mimetype": "text/x-python",
   "name": "python",
   "nbconvert_exporter": "python",
   "pygments_lexer": "ipython3",
   "version": "3.11.1"
  }
 },
 "nbformat": 4,
 "nbformat_minor": 5
}
